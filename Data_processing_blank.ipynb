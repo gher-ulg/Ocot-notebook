{
 "cells": [
  {
   "cell_type": "markdown",
   "metadata": {},
   "source": [
    "# Simple data processing\n",
    "\n",
    "In this notebook we will analyse sea level data measured with a tide gauge in the west Florida Shelf. These are hourly data and correspond to year 2004.\n",
    "\n",
    "On this notebook we will do the following steps:\n",
    "\n",
    "* Load necessary libraries\n",
    "* Read the data necessary for the exercice (sea level height measured with a tide gauge)\n",
    "* Calculate the standard deviation of the data\n",
    "* Plots the data with +/- n * standard deviation to detect outliers/suspect points\n",
    "\n",
    "If you need help with any command, you can of course ask me, but you can also try to search for it:\n",
    "https://docs.julialang.org/en/v1/manual/getting-started/\n",
    "\n",
    "(or plain Google search \"julialang\" and then your keywords...)\n",
    "\n",
    "Once you have finished the exercise we'll comment on the results together"
   ]
  },
  {
   "cell_type": "code",
   "execution_count": null,
   "metadata": {},
   "outputs": [],
   "source": [
    "#Loading the necessary libraries\n",
    "using PyPlot\n",
    "using DelimitedFiles\n",
    "using Statistics"
   ]
  },
  {
   "cell_type": "markdown",
   "metadata": {},
   "source": [
    "Next cell will download the file for the exercise. If you run this a second time, a red message appears saying that it's already there. All ok, no problem!"
   ]
  },
  {
   "cell_type": "code",
   "execution_count": null,
   "metadata": {},
   "outputs": [],
   "source": [
    "filename = \"8762075.sealevel.txt\";\n",
    "if !isfile(filename)\n",
    "    @info(\"downloading $filename\")\n",
    "    cp(download(\"https://dox.uliege.be/index.php/s/PESUtiJ9RNSO73Y/download\"),filename)\n",
    "else\n",
    "    @info(\"$filename is already downloaded\")\n",
    "end"
   ]
  },
  {
   "cell_type": "code",
   "execution_count": null,
   "metadata": {},
   "outputs": [],
   "source": [
    "#Reading the data\n",
    "\n",
    "data,header = readdlm(\"8762075.sealevel.txt\",header=true);\n",
    "\n",
    "\n",
    "\n",
    "#The data have 8784 rows and 8 columns\n",
    "size(data)"
   ]
  },
  {
   "cell_type": "code",
   "execution_count": null,
   "metadata": {},
   "outputs": [],
   "source": [
    "#Let's inspect the header\n",
    "header[1:8]"
   ]
  },
  {
   "cell_type": "code",
   "execution_count": null,
   "metadata": {},
   "outputs": [],
   "source": [
    "#and the first 10 rows of the data\n",
    "data[1:10,:]"
   ]
  },
  {
   "cell_type": "code",
   "execution_count": null,
   "metadata": {},
   "outputs": [],
   "source": [
    "# The 6th column contains the variable \"sea-level-height\"\n",
    "# We extract this column into a new variable \"sealevel\" which is now a 1-column time series (with 8784 values)\n",
    "sealevel = data[:,6];\n",
    "size(sealevel)"
   ]
  },
  {
   "cell_type": "markdown",
   "metadata": {},
   "source": [
    "#### $\\rightarrow$ First exercise: calculate the standard deviation of the data (here is the equation):\n",
    "\n",
    "\\begin{equation}\n",
    "    s = \\sqrt{\\frac{1}{N+1} \\sum_{i=1}^N (x_i - \\bar{x})^2}\n",
    "\\end{equation}\n"
   ]
  },
  {
   "cell_type": "code",
   "execution_count": null,
   "metadata": {},
   "outputs": [],
   "source": [
    "#Insert your equation here:\n",
    "# I'll help you start:\n",
    "N = length(sealevel); #number of elements\n",
    "bar_x = sum(sealevel)/N; #average of our time series, sealevel\n",
    "\n",
    "#Now you:\n",
    "# Think the order of the commands you need, and if you need a loop\n",
    "#\n",
    "#\n",
    "#mystd = ...\n",
    "# @show(mystd)"
   ]
  },
  {
   "cell_type": "code",
   "execution_count": null,
   "metadata": {},
   "outputs": [],
   "source": [
    "# We compare now your result with the standard deviation calculated by Julia\n",
    "# If you do not get the same result (to the 3rd decimal is enough), go back to your equation above\n",
    "seal_std = std(sealevel)\n",
    "\n",
    "@show seal_std"
   ]
  },
  {
   "cell_type": "code",
   "execution_count": null,
   "metadata": {},
   "outputs": [],
   "source": [
    "# Now we'll take a look at the data. First we plots the sealevel time series\n",
    "plot(sealevel)\n",
    "ylabel(\"Sea level (m)\");\n",
    "xlabel(\"time (years)\");\n",
    "#and then we add a line showing the mean of the time series\n",
    "plot([1; 8784],[mean(sealevel); mean(sealevel)],\"r\")\n",
    "\n",
    "# Look at how we need to use two points between [brackets], because th emean and standard deviation are\n",
    "#just one number, not a time series. So we draw a line from time = 1 to time = 8784\n",
    "#and join these two points by a line of a chosen colour\n",
    "\n",
    "# Now it's your turn: add lines at 1, 2, 3 times the mean + and - the standard deviation. \n",
    "# You can use different colours, \"g\", \"k\"...\n"
   ]
  },
  {
   "cell_type": "markdown",
   "metadata": {},
   "source": [
    "### Questions\n",
    "\n",
    "$\\rightarrow$ What do you think about the levels indicated by the standard deviation test? \n",
    "$\\rightarrow$ Would you discard some data because they look suspicious? (i.e. outliers)\n",
    "\n",
    "\n",
    "$\\rightarrow$ Locate the data that look suspicious and check their date (columns 1-4 contain year, month, day, hour). \n",
    "\n",
    "$\\rightarrow$ Is there a physically-reasonable reason for those outlier data? (i.e. they might not be ouliers but the result of a physical process?). Think about it, look in the internet if you need to check the timing. We'll discuss together in our next connexion. "
   ]
  },
  {
   "cell_type": "code",
   "execution_count": null,
   "metadata": {},
   "outputs": [],
   "source": [
    "\n"
   ]
  },
  {
   "cell_type": "code",
   "execution_count": null,
   "metadata": {},
   "outputs": [],
   "source": []
  }
 ],
 "metadata": {
  "kernelspec": {
   "display_name": "Julia 1.3.1",
   "language": "julia",
   "name": "julia-1.3"
  },
  "language_info": {
   "file_extension": ".jl",
   "mimetype": "application/julia",
   "name": "julia",
   "version": "1.3.1"
  }
 },
 "nbformat": 4,
 "nbformat_minor": 2
}
